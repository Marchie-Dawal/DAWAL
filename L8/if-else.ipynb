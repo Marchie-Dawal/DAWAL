{
 "cells": [
  {
   "cell_type": "markdown",
   "id": "fb28d518",
   "metadata": {},
   "source": [
    "# if-else statement <hr style = \"border:3px solid rgb(104, 212, 83)\"></hr>"
   ]
  },
  {
   "cell_type": "markdown",
   "id": "ba287f52",
   "metadata": {},
   "source": [
    "Data Analyst: Marchie S. Dawal <br>\n",
    "Department: Electrical Engineering "
   ]
  },
  {
   "cell_type": "markdown",
   "id": "69120526",
   "metadata": {},
   "source": [
    "# if statement"
   ]
  },
  {
   "cell_type": "code",
   "execution_count": 3,
   "id": "5bcebe82",
   "metadata": {},
   "outputs": [
    {
     "name": "stdout",
     "output_type": "stream",
     "text": [
      "pasar ko!\n"
     ]
    }
   ],
   "source": [
    "# passing score is 5\n",
    "grade = 5.1\n",
    "if grade >= 5.0:\n",
    "    print(\"pasar ko!\")"
   ]
  },
  {
   "cell_type": "code",
   "execution_count": 22,
   "id": "16079738",
   "metadata": {},
   "outputs": [
    {
     "name": "stdout",
     "output_type": "stream",
     "text": [
      "Aguy\n"
     ]
    }
   ],
   "source": [
    "# two if statements are evaluated\n",
    "grade = 4.9\n",
    "\n",
    "#evaluate grade\n",
    "if grade >= 5:\n",
    "    print (\"Pasar ko!\")\n",
    "    \n",
    "if grade < 5:\n",
    "    print(\"Aguy\")"
   ]
  },
  {
   "cell_type": "markdown",
   "id": "d7d4e024",
   "metadata": {},
   "source": [
    "# if-else statement"
   ]
  },
  {
   "cell_type": "code",
   "execution_count": 15,
   "id": "a628ff62",
   "metadata": {},
   "outputs": [
    {
     "name": "stdout",
     "output_type": "stream",
     "text": [
      "Aguy\n"
     ]
    }
   ],
   "source": [
    "# if grade >= 5 is true, 'else' will not be evaluated\n",
    "grade = 4.0\n",
    "# evaluate grade\n",
    "if grade >= 5:\n",
    "    print (\"Pasar ko!\")\n",
    "    \n",
    "else:\n",
    "    print (\"Aguy\")"
   ]
  },
  {
   "cell_type": "markdown",
   "id": "e67f02ab",
   "metadata": {},
   "source": [
    "# if-elif-else statement"
   ]
  },
  {
   "cell_type": "code",
   "execution_count": 20,
   "id": "d3532440",
   "metadata": {},
   "outputs": [
    {
     "name": "stdout",
     "output_type": "stream",
     "text": [
      "Aguy\n"
     ]
    }
   ],
   "source": [
    "# if grade >= 5 is true, 'others' will not be evaluated\n",
    "grade = 2.9\n",
    "# evaluate grade\n",
    "if grade >= 5:\n",
    "    print (\"Pasar ko!\") # 5.0 evaluated first\n",
    "    \n",
    "elif grade < 5.0:\n",
    "    print (\"Aguy\") \n",
    "elif grade < 3.0:\n",
    "    print (\"bye\")\n",
    "else:\n",
    "    print (\"Invalid\")"
   ]
  },
  {
   "cell_type": "code",
   "execution_count": 21,
   "id": "78978b0d",
   "metadata": {},
   "outputs": [
    {
     "name": "stdout",
     "output_type": "stream",
     "text": [
      "bye\n"
     ]
    }
   ],
   "source": [
    "# if grade >= 5 is true, 'others' will not be evaluated\n",
    "grade = 2.9\n",
    "# evaluate grade\n",
    "if grade >= 5:\n",
    "    print (\"Pasar ko!\") # 5.0 evaluated first\n",
    "    \n",
    "elif grade < 3.0:\n",
    "    print (\"bye\")\n",
    "elif grade < 5.0:\n",
    "    print (\"Aguy\") \n",
    "else:\n",
    "    print (\"Invalid\")"
   ]
  }
 ],
 "metadata": {
  "kernelspec": {
   "display_name": "Python 3",
   "language": "python",
   "name": "python3"
  },
  "language_info": {
   "codemirror_mode": {
    "name": "ipython",
    "version": 3
   },
   "file_extension": ".py",
   "mimetype": "text/x-python",
   "name": "python",
   "nbconvert_exporter": "python",
   "pygments_lexer": "ipython3",
   "version": "3.13.2"
  }
 },
 "nbformat": 4,
 "nbformat_minor": 5
}
