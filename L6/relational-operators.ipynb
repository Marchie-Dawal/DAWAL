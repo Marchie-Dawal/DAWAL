{
 "cells": [
  {
   "cell_type": "markdown",
   "id": "89b8b1e0",
   "metadata": {},
   "source": [
    "# Relational Operators <hr style = \"border:3px solid rgb(61, 179, 226)\"></hr>"
   ]
  },
  {
   "cell_type": "markdown",
   "id": "657f8372",
   "metadata": {},
   "source": [
    "Data Analyst: Marchie S. Dawal <br>\n",
    "Department: Electrical Engineering "
   ]
  },
  {
   "cell_type": "markdown",
   "id": "6aca0341",
   "metadata": {},
   "source": [
    "# Equal to "
   ]
  },
  {
   "cell_type": "code",
   "execution_count": 1,
   "id": "ca313bf9",
   "metadata": {},
   "outputs": [
    {
     "data": {
      "text/plain": [
       "True"
      ]
     },
     "execution_count": 1,
     "metadata": {},
     "output_type": "execute_result"
    }
   ],
   "source": [
    "a = 5\n",
    "b = 5\n",
    "a == b"
   ]
  },
  {
   "cell_type": "code",
   "execution_count": 2,
   "id": "1e067a2f",
   "metadata": {},
   "outputs": [
    {
     "data": {
      "text/plain": [
       "False"
      ]
     },
     "execution_count": 2,
     "metadata": {},
     "output_type": "execute_result"
    }
   ],
   "source": [
    "a = 0\n",
    "b = 5\n",
    "a == b"
   ]
  },
  {
   "cell_type": "markdown",
   "id": "8ed9ee36",
   "metadata": {},
   "source": [
    "# Not equal to"
   ]
  },
  {
   "cell_type": "code",
   "execution_count": 5,
   "id": "1eb5b189",
   "metadata": {},
   "outputs": [
    {
     "data": {
      "text/plain": [
       "False"
      ]
     },
     "execution_count": 5,
     "metadata": {},
     "output_type": "execute_result"
    }
   ],
   "source": [
    "a = 5\n",
    "b = 5\n",
    "a != b"
   ]
  },
  {
   "cell_type": "code",
   "execution_count": 4,
   "id": "d5bd47ce",
   "metadata": {},
   "outputs": [
    {
     "data": {
      "text/plain": [
       "True"
      ]
     },
     "execution_count": 4,
     "metadata": {},
     "output_type": "execute_result"
    }
   ],
   "source": [
    "a = 0\n",
    "b = 5\n",
    "a != b"
   ]
  },
  {
   "cell_type": "markdown",
   "id": "0273a456",
   "metadata": {},
   "source": [
    "# Greater than"
   ]
  },
  {
   "cell_type": "code",
   "execution_count": 6,
   "id": "5645ae7c",
   "metadata": {},
   "outputs": [
    {
     "data": {
      "text/plain": [
       "True"
      ]
     },
     "execution_count": 6,
     "metadata": {},
     "output_type": "execute_result"
    }
   ],
   "source": [
    "a = 5\n",
    "b = 0\n",
    "a > b"
   ]
  },
  {
   "cell_type": "code",
   "execution_count": 7,
   "id": "c00a5244",
   "metadata": {},
   "outputs": [
    {
     "data": {
      "text/plain": [
       "False"
      ]
     },
     "execution_count": 7,
     "metadata": {},
     "output_type": "execute_result"
    }
   ],
   "source": [
    "a = 0\n",
    "b = 5\n",
    "a > 0"
   ]
  },
  {
   "cell_type": "markdown",
   "id": "31936f2d",
   "metadata": {},
   "source": [
    "# Less than"
   ]
  },
  {
   "cell_type": "code",
   "execution_count": 8,
   "id": "a9d8723b",
   "metadata": {},
   "outputs": [
    {
     "data": {
      "text/plain": [
       "False"
      ]
     },
     "execution_count": 8,
     "metadata": {},
     "output_type": "execute_result"
    }
   ],
   "source": [
    "a = 5\n",
    "b = 0\n",
    "a < b"
   ]
  },
  {
   "cell_type": "code",
   "execution_count": 9,
   "id": "07058cea",
   "metadata": {},
   "outputs": [
    {
     "data": {
      "text/plain": [
       "False"
      ]
     },
     "execution_count": 9,
     "metadata": {},
     "output_type": "execute_result"
    }
   ],
   "source": [
    "a = 0\n",
    "b = 5\n",
    "a < 0"
   ]
  },
  {
   "cell_type": "markdown",
   "id": "b7ecf3c2",
   "metadata": {},
   "source": [
    "# Greater than or equal "
   ]
  },
  {
   "cell_type": "code",
   "execution_count": 10,
   "id": "df6b7545",
   "metadata": {},
   "outputs": [
    {
     "data": {
      "text/plain": [
       "True"
      ]
     },
     "execution_count": 10,
     "metadata": {},
     "output_type": "execute_result"
    }
   ],
   "source": [
    "a = 3\n",
    "b = 3\n",
    "a >= b "
   ]
  },
  {
   "cell_type": "code",
   "execution_count": 11,
   "id": "ba0ceaf3",
   "metadata": {},
   "outputs": [
    {
     "data": {
      "text/plain": [
       "True"
      ]
     },
     "execution_count": 11,
     "metadata": {},
     "output_type": "execute_result"
    }
   ],
   "source": [
    "a = 5\n",
    "b = 3\n",
    "a >= b"
   ]
  },
  {
   "cell_type": "markdown",
   "id": "d361e65a",
   "metadata": {},
   "source": [
    "# Less than or equal"
   ]
  },
  {
   "cell_type": "code",
   "execution_count": 12,
   "id": "4f085c44",
   "metadata": {},
   "outputs": [
    {
     "data": {
      "text/plain": [
       "True"
      ]
     },
     "execution_count": 12,
     "metadata": {},
     "output_type": "execute_result"
    }
   ],
   "source": [
    "a = 3\n",
    "b = 3 \n",
    "a <= b"
   ]
  },
  {
   "cell_type": "code",
   "execution_count": 13,
   "id": "5a847480",
   "metadata": {},
   "outputs": [
    {
     "data": {
      "text/plain": [
       "False"
      ]
     },
     "execution_count": 13,
     "metadata": {},
     "output_type": "execute_result"
    }
   ],
   "source": [
    "a = 5\n",
    "b = 3\n",
    "a <= b"
   ]
  }
 ],
 "metadata": {
  "kernelspec": {
   "display_name": "Python 3",
   "language": "python",
   "name": "python3"
  },
  "language_info": {
   "codemirror_mode": {
    "name": "ipython",
    "version": 3
   },
   "file_extension": ".py",
   "mimetype": "text/x-python",
   "name": "python",
   "nbconvert_exporter": "python",
   "pygments_lexer": "ipython3",
   "version": "3.13.2"
  }
 },
 "nbformat": 4,
 "nbformat_minor": 5
}
