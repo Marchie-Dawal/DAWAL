{
 "cells": [
  {
   "cell_type": "markdown",
   "id": "5e122240",
   "metadata": {},
   "source": [
    "# Logical Operators <hr style = \"border:3px solid rgb(250, 93, 211)\"></hr>"
   ]
  },
  {
   "cell_type": "markdown",
   "id": "51a11b87",
   "metadata": {},
   "source": [
    "Data Analyst: Marchie S. Dawal <br>\n",
    "Department: Electrical Engineering "
   ]
  },
  {
   "cell_type": "markdown",
   "id": "8a011842",
   "metadata": {},
   "source": [
    "# Logical AND"
   ]
  },
  {
   "cell_type": "code",
   "execution_count": 18,
   "id": "119973a0",
   "metadata": {},
   "outputs": [
    {
     "name": "stdout",
     "output_type": "stream",
     "text": [
      "at least one is false\n"
     ]
    }
   ],
   "source": [
    "# a AND b as b must be true\n",
    "a = True\n",
    "b = False\n",
    "if a and b:\n",
    "    print(\"both are true\")\n",
    "\n",
    "elif not (a) and not (b):\n",
    "    print(\"both are false\")\n",
    "\n",
    "else:\n",
    "    print(\"at least one is false\")"
   ]
  },
  {
   "cell_type": "code",
   "execution_count": 47,
   "id": "5c6f3fc4",
   "metadata": {},
   "outputs": [
    {
     "name": "stdout",
     "output_type": "stream",
     "text": [
      "99 is out of range\n"
     ]
    }
   ],
   "source": [
    "# check if a is within the range of 1 to 30\n",
    "a = 99\n",
    "\n",
    "if a > 0 and a <= 10:\n",
    "    print (str(a) + \" is within the range of 1 to 10\")\n",
    "elif a > 10 and a <= 20:\n",
    "    print (str(a) + \" is within the range of 11 to 20\")\n",
    "elif a > 20 and a <= 30:\n",
    "    print (str(a) + \" is within the range of 21 to 30\")\n",
    "else: \n",
    "    print (str(a) +\" is out of range\")"
   ]
  },
  {
   "cell_type": "markdown",
   "id": "a373981d",
   "metadata": {},
   "source": [
    "# Logical OR"
   ]
  },
  {
   "cell_type": "code",
   "execution_count": 31,
   "id": "077f24a2",
   "metadata": {},
   "outputs": [
    {
     "name": "stdout",
     "output_type": "stream",
     "text": [
      "at least one is true\n"
     ]
    }
   ],
   "source": [
    "# either a or b is true\n",
    "a = False\n",
    "b = True\n",
    "\n",
    "if a or b:\n",
    "    print(\"at least one is true\")\n",
    "else:\n",
    "    print(\"both are false\")"
   ]
  },
  {
   "cell_type": "code",
   "execution_count": 39,
   "id": "7b4d3f6b",
   "metadata": {},
   "outputs": [
    {
     "name": "stdout",
     "output_type": "stream",
     "text": [
      "The weather is unpredictable today\n"
     ]
    }
   ],
   "source": [
    "# go outside or stay indoors\n",
    "weather = \"cloudy\" \n",
    "\n",
    "if(weather == \"rainy\") or (weather == \"stormy\"):\n",
    "    print(\"Bring an umbrella or stay indoors!\")\n",
    "\n",
    "elif (weather == \"sunny\") or (weather == \"clear\"):\n",
    "    print(\"It's a great day to go outside!\")\n",
    "\n",
    "else:\n",
    "    print(\"The weather is unpredictable today\")"
   ]
  },
  {
   "cell_type": "markdown",
   "id": "47ffea86",
   "metadata": {},
   "source": [
    "# Logical NOT"
   ]
  },
  {
   "cell_type": "code",
   "execution_count": 41,
   "id": "cec5558d",
   "metadata": {},
   "outputs": [
    {
     "data": {
      "text/plain": [
       "True"
      ]
     },
     "execution_count": 41,
     "metadata": {},
     "output_type": "execute_result"
    }
   ],
   "source": [
    "# negates the logical state\n",
    "a = False\n",
    "not a"
   ]
  },
  {
   "cell_type": "code",
   "execution_count": 46,
   "id": "ea089c15",
   "metadata": {},
   "outputs": [
    {
     "name": "stdout",
     "output_type": "stream",
     "text": [
      "9 is even\n"
     ]
    }
   ],
   "source": [
    "# odd or even number\n",
    "a = 9\n",
    "if not (a%2 == 0):\n",
    "    print(str(a) + \" is even\")\n",
    "else:\n",
    "    print (str(a) + \" is odd\")"
   ]
  }
 ],
 "metadata": {
  "kernelspec": {
   "display_name": "Python 3",
   "language": "python",
   "name": "python3"
  },
  "language_info": {
   "codemirror_mode": {
    "name": "ipython",
    "version": 3
   },
   "file_extension": ".py",
   "mimetype": "text/x-python",
   "name": "python",
   "nbconvert_exporter": "python",
   "pygments_lexer": "ipython3",
   "version": "3.13.2"
  }
 },
 "nbformat": 4,
 "nbformat_minor": 5
}
